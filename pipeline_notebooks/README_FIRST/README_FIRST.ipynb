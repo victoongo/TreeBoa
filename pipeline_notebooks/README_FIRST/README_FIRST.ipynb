{
 "cells": [
  {
   "cell_type": "markdown",
   "metadata": {},
   "source": [
    "At the moment, every time you run a notebook - even if it's just plain Python and not PySpark - a long-running PySpark process is started which will occupy one(1) CPU Core.\n",
    "\n",
    "Because you have a limited number of CPU Cores (4, 8, etc), you will quickly run out of CPU Cores - causing notebooks to hang.\n",
    "\n",
    "Make sure you \"Shutdown\" notebooks that you are not using to free up the valuable CPU Cores. "
   ]
  },
  {
   "cell_type": "markdown",
   "metadata": {},
   "source": [
    "![](http://advancedspark.com/img/jupyter-notebook-shutdown.png)"
   ]
  },
  {
   "cell_type": "code",
   "execution_count": null,
   "metadata": {
    "collapsed": true
   },
   "outputs": [],
   "source": []
  }
 ],
 "metadata": {
  "kernelspec": {
   "display_name": "Python 2",
   "language": "python",
   "name": "python2"
  }
 },
 "nbformat": 4,
 "nbformat_minor": 0
}
