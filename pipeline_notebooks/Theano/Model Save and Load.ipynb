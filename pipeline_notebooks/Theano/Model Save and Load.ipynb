{
 "cells": [
  {
   "cell_type": "markdown",
   "metadata": {},
   "source": [
    "### Save 2 Theano Variables and a NumPy Array"
   ]
  },
  {
   "cell_type": "code",
   "execution_count": 79,
   "metadata": {
    "collapsed": false
   },
   "outputs": [],
   "source": [
    "model_path = \"/tmp/model.zip\""
   ]
  },
  {
   "cell_type": "markdown",
   "metadata": {},
   "source": [
    "### Use Theano Utils to Save Model"
   ]
  },
  {
   "cell_type": "code",
   "execution_count": 80,
   "metadata": {
    "collapsed": false
   },
   "outputs": [
    {
     "name": "stdout",
     "output_type": "stream",
     "text": [
      "<closed file '/tmp/model.zip', mode 'wb' at 0x7fc5d74a0390>\n"
     ]
    }
   ],
   "source": [
    "import numpy as np\n",
    "from theano.misc.pkl_utils import dump\n",
    "\n",
    "a = theano.shared(0, name='a')\n",
    "b = theano.shared(1, name='b')\n",
    "arr = np.array(5)\n",
    "\n",
    "with open(model_path, 'wb') as f:\n",
    "  theano.misc.pkl_utils.dump((a, b, arr), f)\n",
    "\n",
    "print f"
   ]
  },
  {
   "cell_type": "code",
   "execution_count": 81,
   "metadata": {
    "collapsed": false
   },
   "outputs": [
    {
     "name": "stdout",
     "output_type": "stream",
     "text": [
      "/tmp/model.zip\r\n"
     ]
    }
   ],
   "source": [
    "!ls /tmp/model.zip"
   ]
  },
  {
   "cell_type": "markdown",
   "metadata": {},
   "source": [
    "### Use Theano Utils to Load Model"
   ]
  },
  {
   "cell_type": "code",
   "execution_count": 82,
   "metadata": {
    "collapsed": false
   },
   "outputs": [
    {
     "name": "stdout",
     "output_type": "stream",
     "text": [
      "(a, b, array(5))\n",
      "0\n",
      "1\n",
      "5\n",
      "<closed file '/tmp/model.zip', mode 'rb' at 0x7fc5d74a0030>\n"
     ]
    }
   ],
   "source": [
    "from theano.misc.pkl_utils import load\n",
    "\n",
    "with open(model_path, 'rb') as f:\n",
    "  theano_loaded_model = load(f)\n",
    "\n",
    "print theano_loaded_model\n",
    "\n",
    "print theano_loaded_model[0].get_value()\n",
    "print theano_loaded_model[1].get_value()\n",
    "print theano_loaded_model[2]\n",
    "\n",
    "print f\n"
   ]
  },
  {
   "cell_type": "markdown",
   "metadata": {},
   "source": [
    "### Use NumPy to Load Model"
   ]
  },
  {
   "cell_type": "code",
   "execution_count": 83,
   "metadata": {
    "collapsed": false
   },
   "outputs": [
    {
     "name": "stdout",
     "output_type": "stream",
     "text": [
      "['a', 'b', 'array_0', 'pkl']\n",
      "0\n",
      "1\n",
      "5\n",
      "<closed file '/tmp/model.zip', mode 'rb' at 0x7fc5d74a0030>\n"
     ]
    }
   ],
   "source": [
    "import numpy as np\n",
    "\n",
    "numpy_loaded_model = np.load(model_path)\n",
    "\n",
    "numpy_loaded_model_keys = numpy_loaded_model.keys()\n",
    "print numpy_loaded_model_keys\n",
    "\n",
    "print numpy_loaded_model['a']\n",
    "\n",
    "print numpy_loaded_model['b']\n",
    "\n",
    "print numpy_loaded_model['array_0']\n",
    "\n",
    "print f"
   ]
  },
  {
   "cell_type": "code",
   "execution_count": null,
   "metadata": {
    "collapsed": true
   },
   "outputs": [],
   "source": []
  },
  {
   "cell_type": "code",
   "execution_count": null,
   "metadata": {
    "collapsed": true
   },
   "outputs": [],
   "source": []
  }
 ],
 "metadata": {
  "kernelspec": {
   "display_name": "Python 2",
   "language": "python",
   "name": "python2"
  },
  "language_info": {
   "codemirror_mode": {
    "name": "ipython",
    "version": 2
   },
   "file_extension": ".py",
   "mimetype": "text/x-python",
   "name": "python",
   "nbconvert_exporter": "python",
   "pygments_lexer": "ipython2",
   "version": "2.7.6"
  }
 },
 "nbformat": 4,
 "nbformat_minor": 0
}
